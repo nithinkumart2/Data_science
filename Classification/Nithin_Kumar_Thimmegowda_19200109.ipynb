{
 "cells": [
  {
   "cell_type": "markdown",
   "metadata": {},
   "source": [
    "## Student Number : 19200109"
   ]
  },
  {
   "cell_type": "markdown",
   "metadata": {},
   "source": [
    "Libraries required for the tasks in the assignment"
   ]
  },
  {
   "cell_type": "code",
   "execution_count": 271,
   "metadata": {},
   "outputs": [],
   "source": [
    "import requests\n",
    "import pandas as pd\n",
    "from sklearn.naive_bayes import GaussianNB\n",
    "from sklearn.feature_extraction.text import TfidfVectorizer\n",
    "from sklearn.metrics import *\n",
    "from sklearn.model_selection import train_test_split, cross_val_score\n",
    "import matplotlib.pyplot as plt\n",
    "from bs4 import BeautifulSoup\n",
    "from sklearn.metrics import classification_report\n",
    "import numpy as np"
   ]
  },
  {
   "cell_type": "markdown",
   "metadata": {},
   "source": [
    "## Task 1: Collection of Data and Storage"
   ]
  },
  {
   "cell_type": "markdown",
   "metadata": {},
   "source": [
    "Storing the url from which categories are selected and making call to the webpage by using requests"
   ]
  },
  {
   "cell_type": "code",
   "execution_count": 272,
   "metadata": {},
   "outputs": [],
   "source": [
    "url=\"http://mlg.ucd.ie/modules/yalp/\"\n",
    "rawHtml = requests.get(url)"
   ]
  },
  {
   "cell_type": "markdown",
   "metadata": {},
   "source": [
    "verifying whether the call made to the webpage is successfull and if we have received the contents of the webpage for which the request is made"
   ]
  },
  {
   "cell_type": "code",
   "execution_count": 273,
   "metadata": {},
   "outputs": [
    {
     "name": "stdout",
     "output_type": "stream",
     "text": [
      "200\n"
     ]
    }
   ],
   "source": [
    "print(rawHtml.status_code)\n",
    "#print(rawHtml.content)"
   ]
  },
  {
   "cell_type": "markdown",
   "metadata": {},
   "source": [
    "Parsing the content of the webpage using the beautifulsoup parser and selecting the required data from the parsed webpage by accessing the different elements of the webpage"
   ]
  },
  {
   "cell_type": "code",
   "execution_count": 274,
   "metadata": {},
   "outputs": [],
   "source": [
    "htmlParsed = BeautifulSoup(rawHtml.content,\"html.parser\")\n",
    "#print(htmlParsed)\n",
    "# selecting all the elements in the webpage whose class is category\n",
    "mainPageCategories = htmlParsed.find_all(class_=\"category\")\n",
    "#print(mainPageCategories)"
   ]
  },
  {
   "cell_type": "markdown",
   "metadata": {},
   "source": [
    "#### Categories i have chosen are as below\n",
    "1) Category: Automotive<br>\n",
    "2) Category: Gym<br>\n",
    "3) Category: Hotels"
   ]
  },
  {
   "cell_type": "code",
   "execution_count": 275,
   "metadata": {},
   "outputs": [],
   "source": [
    "myCategories = [\"Automotive\",\"Gym\",\"Hotels\"]"
   ]
  },
  {
   "cell_type": "markdown",
   "metadata": {},
   "source": [
    "Below is the code used to scrape through the webpages and select the reviews and their corresponding ratings and storing them "
   ]
  },
  {
   "cell_type": "code",
   "execution_count": 276,
   "metadata": {},
   "outputs": [],
   "source": [
    "# allRecords is the variable used to store the webscraped data\n",
    "allRecords=[]\n",
    "#we now iterate through all the categories which we got from the above step\n",
    "for categoryDiv in mainPageCategories:\n",
    "    # for each category element we look for the content within the tag <a> and split that content by \": \"\n",
    "    nameOfCategories = categoryDiv.find(\"a\").get_text().split(\": \")\n",
    "    # print(nameOfCategories)\n",
    "    # we now iterate through categories we have got after splitting the content between <a> tag\n",
    "    for categoryName in nameOfCategories:\n",
    "        # if the category name is same as the category in my selected list of categories then i continue further webscraping      \n",
    "        if categoryName in myCategories:\n",
    "            #print(categoryName)\n",
    "            # finding the text between <a> tag which gives me the url for the page which contains all businesses             \n",
    "            businessPageUrl = url+categoryDiv.find(\"a\").get('href')\n",
    "            #print(businessPageUrl)\n",
    "            # Making the webrequest to fetch contents from page with all businesses             \n",
    "            businessPageRawHtml = requests.get(businessPageUrl)\n",
    "            # Parsing the content of the webpage using the beautifulsoup parser and selecting the required data\n",
    "            # from the parsed webpage by accessing the different elements of the webpage             \n",
    "            businessPageRawHtmlParsed = BeautifulSoup(businessPageRawHtml.content,\"html.parser\")\n",
    "            #print(businessPageRawHtmlParsed)\n",
    "            # Fetching the list of businesses which is found within h5 tag\n",
    "            listOfBusinesses = businessPageRawHtmlParsed.find_all('h5')\n",
    "            # Iterating through each of the businesses             \n",
    "            for eachBusiness in listOfBusinesses:\n",
    "                #print(business)\n",
    "                # finding the text between <a> tag which gives me the url for the page which contains all reviews  \n",
    "                reviewPageUrl = url+eachBusiness.find('a').get('href')\n",
    "                #print(reviewPageUrl)\n",
    "                # Making the webrequest to fetch contents from page with all reviews \n",
    "                reviewPageRawHtml = requests.get(reviewPageUrl)\n",
    "                # Parsing the content of the webpage using the beautifulsoup parser and selecting the required data\n",
    "                # from the parsed webpage by accessing the different elements of the webpage\n",
    "                reviewPageRawHtmlParsed = BeautifulSoup(reviewPageRawHtml.content,\"html.parser\")\n",
    "                #print(reviewPageRawHtmlParsed)\n",
    "                # Fetching the list of reviews whose class is review\n",
    "                listOfReviews = reviewPageRawHtmlParsed.find_all(class_='review')\n",
    "                 # Iterating through each of the reviews\n",
    "                for eachReview in listOfReviews:\n",
    "                    #print(eachReview)\n",
    "                    # Now we fetch the review text whose class is review-text\n",
    "                    reviewText = eachReview.find(class_='review-text').get_text()\n",
    "                    # Then we fetch the review rating which is present with img tag and its value with alt tag\n",
    "                    #  then we split the content for example 1-star with - to get just the number 1                    \n",
    "                    reviewRating=int(eachReview.find('img').get('alt').split('-')[0])\n",
    "                    dataPerRow = []\n",
    "                    #  Forming single row data by appending category name                    \n",
    "                    dataPerRow.append(categoryName)\n",
    "                    #  Forming single row data by appending review text \n",
    "                    dataPerRow.append(reviewText)\n",
    "                    #  Forming single row data by appending review rating \n",
    "                    dataPerRow.append(reviewRating)\n",
    "                    #  Forming single row data by appending feedbacktype if review is <=3 then negative else positive\n",
    "                    if reviewRating<=3:\n",
    "                        dataPerRow.append(\"Negative\")\n",
    "                    else:\n",
    "                        dataPerRow.append(\"Positive\")\n",
    "                    #print(dataPerRow)\n",
    "                    # storing one full record                      \n",
    "                    allRecords.append(dataPerRow)"
   ]
  },
  {
   "cell_type": "markdown",
   "metadata": {},
   "source": [
    "we now form the data frame with all the records and specify the column names 'Category','Review','Rating','FeedBackType' repectively and store the entire data in the file rawDataset.csv"
   ]
  },
  {
   "cell_type": "code",
   "execution_count": 277,
   "metadata": {},
   "outputs": [],
   "source": [
    "#print(dataPerRow)\n",
    "# creating the dataframe and also assigning the column names\n",
    "dataFrame = pd.DataFrame(allRecords,columns=['Category','Review','Rating','FeedBackType'])\n",
    "#saving all records to csv file\n",
    "dataFrame.to_csv(\"rawDataset.csv\",index=False)"
   ]
  },
  {
   "cell_type": "markdown",
   "metadata": {},
   "source": [
    "Creating the sepearte dataframes for each category chosen from the data frame which contains all data"
   ]
  },
  {
   "cell_type": "code",
   "execution_count": 278,
   "metadata": {
    "scrolled": true
   },
   "outputs": [],
   "source": [
    "categoryAutomotive = dataframe[dataframe.Category == 'Automotive']\n",
    "categoryGym = dataframe[dataframe.Category == 'Gym']\n",
    "categoryHotels = dataframe[dataframe.Category == 'Hotels']"
   ]
  },
  {
   "cell_type": "markdown",
   "metadata": {},
   "source": [
    "## Task 2: Pre-Processing, Building Model and Testing"
   ]
  },
  {
   "cell_type": "markdown",
   "metadata": {},
   "source": [
    "Forming the dataframe which is used for predicting and modelling and storing just the reviews and feedbacktype into csv files for each Category(as mentioned in the document)."
   ]
  },
  {
   "cell_type": "code",
   "execution_count": 279,
   "metadata": {},
   "outputs": [],
   "source": [
    "category1=categoryAutomotive[['Review','FeedBackType']]\n",
    "category1.to_csv(\"categoryAutomotive.csv\",index=False)\n",
    "category2=categoryGym[['Review','FeedBackType']]\n",
    "category2.to_csv(\"categoryGym.csv\",index=False)\n",
    "category3=categoryHotels[['Review','FeedBackType']]\n",
    "category3.to_csv(\"categoryHotels.csv\",index=False)\n",
    "#print(category1)\n",
    "#print(category2)\n",
    "#print(category3)"
   ]
  },
  {
   "cell_type": "markdown",
   "metadata": {},
   "source": [
    "Storing the reviews in one variable and feedbacktype in another variable so its easy while predicitng and modelling for each Category"
   ]
  },
  {
   "cell_type": "code",
   "execution_count": 280,
   "metadata": {},
   "outputs": [],
   "source": [
    "reviewCategory1 = category1.Review\n",
    "targetTypeCategory1 = category1.FeedBackType\n",
    "reviewCategory2 = category2.Review\n",
    "targetTypeCategory2 = category2.FeedBackType\n",
    "reviewCategory3 = category3.Review\n",
    "targetTypeCategory3 = category3.FeedBackType"
   ]
  },
  {
   "cell_type": "markdown",
   "metadata": {},
   "source": [
    "### Classication model using Naive Bayes classifier for Category 1- Automative"
   ]
  },
  {
   "cell_type": "markdown",
   "metadata": {},
   "source": [
    "#### PreProcessing: Category1-Automotive\n",
    "\n",
    "I use the TfidfVectorizer to convert the text documents into numerical format, to form stems, to remove stop words and to generate the Category1-Automative document matrix.<br>\n",
    "Min_def states that if a token appears in the minimum number of documents defined then that token must be considered.<br> The next step is to split the Category1-Automotive data into the training set and test set. I chose 70% of the data in Category1-Automotive as the training set, and 30% of the total data in Category1-Automotive as the test set"
   ]
  },
  {
   "cell_type": "code",
   "execution_count": 281,
   "metadata": {},
   "outputs": [],
   "source": [
    "vectorizerCategory1 = TfidfVectorizer(stop_words=\"english\",min_df=3,strip_accents='unicode')\n",
    "category1X = vectorizerCategory1.fit_transform(reviewCategory1)\n",
    "category1_train_x, category1_test_x, category1_train_y, category1_test_y = train_test_split(category1X, targetTypeCategory1, test_size=0.3)"
   ]
  },
  {
   "cell_type": "markdown",
   "metadata": {},
   "source": [
    "#### Creating Model: Category1-Automotive\n",
    "Creating the Naive Bayes model and Category1-Automotive training data is fitted"
   ]
  },
  {
   "cell_type": "code",
   "execution_count": 282,
   "metadata": {
    "scrolled": true
   },
   "outputs": [
    {
     "data": {
      "text/plain": [
       "GaussianNB(priors=None, var_smoothing=1e-09)"
      ]
     },
     "execution_count": 282,
     "metadata": {},
     "output_type": "execute_result"
    }
   ],
   "source": [
    "nbCategory1 = GaussianNB()\n",
    "nbCategory1.fit(category1_train_x.toarray(), category1_train_y)"
   ]
  },
  {
   "cell_type": "markdown",
   "metadata": {},
   "source": [
    "#### Predicting: Category1-Automotive\n",
    "Model generated in the above step is used for predicting test set of Category1-Automotive"
   ]
  },
  {
   "cell_type": "code",
   "execution_count": 283,
   "metadata": {},
   "outputs": [],
   "source": [
    "category1_y_perdiction = nbCategory1.predict(category1_test_x.toarray())"
   ]
  },
  {
   "cell_type": "markdown",
   "metadata": {},
   "source": [
    "#### Testing: Category1-Automotive\n",
    "From the matrix below we see that the number of records for Negative and Positive feedbacktype are not equal. Information is imbalanced, in other words. Assessment needs another approach"
   ]
  },
  {
   "cell_type": "code",
   "execution_count": 284,
   "metadata": {},
   "outputs": [
    {
     "data": {
      "text/html": [
       "<div>\n",
       "<style scoped>\n",
       "    .dataframe tbody tr th:only-of-type {\n",
       "        vertical-align: middle;\n",
       "    }\n",
       "\n",
       "    .dataframe tbody tr th {\n",
       "        vertical-align: top;\n",
       "    }\n",
       "\n",
       "    .dataframe thead th {\n",
       "        text-align: right;\n",
       "    }\n",
       "</style>\n",
       "<table border=\"1\" class=\"dataframe\">\n",
       "  <thead>\n",
       "    <tr style=\"text-align: right;\">\n",
       "      <th></th>\n",
       "      <th>Review</th>\n",
       "    </tr>\n",
       "    <tr>\n",
       "      <th>FeedBackType</th>\n",
       "      <th></th>\n",
       "    </tr>\n",
       "  </thead>\n",
       "  <tbody>\n",
       "    <tr>\n",
       "      <th>Negative</th>\n",
       "      <td>788</td>\n",
       "    </tr>\n",
       "    <tr>\n",
       "      <th>Positive</th>\n",
       "      <td>1212</td>\n",
       "    </tr>\n",
       "  </tbody>\n",
       "</table>\n",
       "</div>"
      ],
      "text/plain": [
       "              Review\n",
       "FeedBackType        \n",
       "Negative         788\n",
       "Positive        1212"
      ]
     },
     "execution_count": 284,
     "metadata": {},
     "output_type": "execute_result"
    }
   ],
   "source": [
    "category1.groupby(['FeedBackType']).agg(pd.Series.count)"
   ]
  },
  {
   "cell_type": "markdown",
   "metadata": {},
   "source": [
    "The easiest way to look if the model just correctly predicted the majority class and not the minority class is by seeing the confusion matrix. We will find out if the assumption for this is incorrect. From the matrix we can infer that in most cases the model has done significant work predicting classes correctly"
   ]
  },
  {
   "cell_type": "code",
   "execution_count": 285,
   "metadata": {},
   "outputs": [
    {
     "name": "stdout",
     "output_type": "stream",
     "text": [
      "[[180  62]\n",
      " [ 98 260]]\n"
     ]
    }
   ],
   "source": [
    "print(confusion_matrix(category1_test_y, category1_y_perdiction,labels=['Negative','Positive']))"
   ]
  },
  {
   "cell_type": "markdown",
   "metadata": {},
   "source": [
    "We can see that all the criteria for assessment are summarized using the classification_report function and the information for Category1-Automotive<br> Accuracy, Recall, F1 score and Support are calculated below."
   ]
  },
  {
   "cell_type": "code",
   "execution_count": 286,
   "metadata": {},
   "outputs": [
    {
     "name": "stdout",
     "output_type": "stream",
     "text": [
      "              precision    recall  f1-score   support\n",
      "\n",
      "    Negative       0.65      0.74      0.69       242\n",
      "    Positive       0.81      0.73      0.76       358\n",
      "\n",
      "    accuracy                           0.73       600\n",
      "   macro avg       0.73      0.74      0.73       600\n",
      "weighted avg       0.74      0.73      0.74       600\n",
      "\n"
     ]
    }
   ],
   "source": [
    "print(classification_report(category1_test_y, category1_y_perdiction, target_names=['Negative','Positive']))"
   ]
  },
  {
   "cell_type": "markdown",
   "metadata": {},
   "source": [
    "The F1 score could be used to compare results for each class, as previously stated, with the imbalanced data. Below are the F1 scores evaluated for Category1-Automotive data for Negative and Positive Class. Within the later portion, this data is expressed graphically by F1 scores with other categories."
   ]
  },
  {
   "cell_type": "code",
   "execution_count": 287,
   "metadata": {},
   "outputs": [
    {
     "name": "stdout",
     "output_type": "stream",
     "text": [
      "F1 score for POSITIVE review = 0.76\n",
      "F1 score for NEGATIVE review = 0.68\n"
     ]
    }
   ],
   "source": [
    "category1f1_pos = f1_score(category1_test_y, category1_y_perdiction, pos_label='Positive')\n",
    "category1f1_neg = f1_score(category1_test_y, category1_y_perdiction, pos_label='Negative')\n",
    "print(\"F1 score for POSITIVE review = %.2f\" % category3f1_pos )\n",
    "print(\"F1 score for NEGATIVE review = %.2f\" % category3f1_neg )"
   ]
  },
  {
   "cell_type": "markdown",
   "metadata": {},
   "source": [
    "#### Cross validation used for the Prediction and Evaluation<br>\n",
    "I used cross validation because the data is imbalanced, the model stacking approach is used for better evaluation, we don't have to worry about changing the parameters because it takes care of it on its own, uses all the data available, gives preference to dependent and grouped data and has a better metric system."
   ]
  },
  {
   "cell_type": "code",
   "execution_count": 288,
   "metadata": {},
   "outputs": [
    {
     "name": "stdout",
     "output_type": "stream",
     "text": [
      "Mean accuracy: 0.6820\n"
     ]
    }
   ],
   "source": [
    "accuracies = cross_val_score(nb, category1X.toarray(), targetTypeCategory1, cv=5, scoring=\"accuracy\")\n",
    "labels = [ \"Fold %d\" % i for i in range(1,len(accuracies)+1) ]\n",
    "accuracy_series = pd.Series(accuracies, index = labels)\n",
    "print(\"Mean accuracy: %.4f\" % accuracy_series.mean() )"
   ]
  },
  {
   "cell_type": "markdown",
   "metadata": {},
   "source": [
    "### Classication model using Naive Bayes classifier for category 2-Gym"
   ]
  },
  {
   "cell_type": "markdown",
   "metadata": {},
   "source": [
    "#### PreProcessing: Category2-Gym\n",
    "I use the TfidfVectorizer to convert the text documents into numerical format, to form stems, to remove stop words and to generate the Category2-Gym document matrix.\n",
    "Min def states that if a token appears in the minimum number of documents defined then that token must be considered.<br > The next step is to split the Category2-Gym data into the training set and test set. I chose 70% of the data in Category2-Gym as the training set, and 30% of the total data in Category2-Gym as the test set"
   ]
  },
  {
   "cell_type": "code",
   "execution_count": 289,
   "metadata": {},
   "outputs": [],
   "source": [
    "vectorizerCategory2 = TfidfVectorizer(stop_words=\"english\",min_df=3,strip_accents='unicode')\n",
    "category2X = vectorizerCategory2.fit_transform(reviewCategory2)\n",
    "category2_train_x, category2_test_x, category2_train_y, category2_test_y = train_test_split(category2X, targetTypeCategory2, test_size=0.3)"
   ]
  },
  {
   "cell_type": "markdown",
   "metadata": {},
   "source": [
    "#### Creating Model: Category2-Gym\n",
    "Creating the Naive Bayes model and Category2-Gym training data is fitted"
   ]
  },
  {
   "cell_type": "code",
   "execution_count": 290,
   "metadata": {},
   "outputs": [
    {
     "data": {
      "text/plain": [
       "GaussianNB(priors=None, var_smoothing=1e-09)"
      ]
     },
     "execution_count": 290,
     "metadata": {},
     "output_type": "execute_result"
    }
   ],
   "source": [
    "nbCategory2 = GaussianNB()\n",
    "nbCategory2.fit(category2_train_x.toarray(), category2_train_y)"
   ]
  },
  {
   "cell_type": "markdown",
   "metadata": {},
   "source": [
    "#### Predicting: Category2-Gym\n",
    "Model generated in the above step is used for predicting test set of Category2-Gym"
   ]
  },
  {
   "cell_type": "code",
   "execution_count": 291,
   "metadata": {},
   "outputs": [],
   "source": [
    "category2_y_perdiction = nbCategory2.predict(category2_test_x.toarray())"
   ]
  },
  {
   "cell_type": "markdown",
   "metadata": {},
   "source": [
    "#### Testing: Category2-Gym\n",
    "From the matrix below we see that the number of records for Negative and Positive feedbacktype are not equal. Information is imbalanced, in other words. Assessment needs another approach"
   ]
  },
  {
   "cell_type": "code",
   "execution_count": 292,
   "metadata": {},
   "outputs": [
    {
     "data": {
      "text/html": [
       "<div>\n",
       "<style scoped>\n",
       "    .dataframe tbody tr th:only-of-type {\n",
       "        vertical-align: middle;\n",
       "    }\n",
       "\n",
       "    .dataframe tbody tr th {\n",
       "        vertical-align: top;\n",
       "    }\n",
       "\n",
       "    .dataframe thead th {\n",
       "        text-align: right;\n",
       "    }\n",
       "</style>\n",
       "<table border=\"1\" class=\"dataframe\">\n",
       "  <thead>\n",
       "    <tr style=\"text-align: right;\">\n",
       "      <th></th>\n",
       "      <th>Review</th>\n",
       "    </tr>\n",
       "    <tr>\n",
       "      <th>FeedBackType</th>\n",
       "      <th></th>\n",
       "    </tr>\n",
       "  </thead>\n",
       "  <tbody>\n",
       "    <tr>\n",
       "      <th>Negative</th>\n",
       "      <td>701</td>\n",
       "    </tr>\n",
       "    <tr>\n",
       "      <th>Positive</th>\n",
       "      <td>1299</td>\n",
       "    </tr>\n",
       "  </tbody>\n",
       "</table>\n",
       "</div>"
      ],
      "text/plain": [
       "              Review\n",
       "FeedBackType        \n",
       "Negative         701\n",
       "Positive        1299"
      ]
     },
     "execution_count": 292,
     "metadata": {},
     "output_type": "execute_result"
    }
   ],
   "source": [
    "category2.groupby(['FeedBackType']).agg(pd.Series.count)"
   ]
  },
  {
   "cell_type": "markdown",
   "metadata": {},
   "source": [
    "The easiest way to look if the model just correctly predicted the majority class and not the minority class is by seeing the confusion matrix. We will find out if the assumption for this is incorrect. From the matrix we can infer that in most cases the model has done significant work predicting classes correctly"
   ]
  },
  {
   "cell_type": "code",
   "execution_count": 293,
   "metadata": {},
   "outputs": [
    {
     "name": "stdout",
     "output_type": "stream",
     "text": [
      "[[181  45]\n",
      " [ 85 289]]\n"
     ]
    }
   ],
   "source": [
    "print(confusion_matrix(category2_test_y, category2_y_perdiction,labels=['Negative','Positive']))"
   ]
  },
  {
   "cell_type": "markdown",
   "metadata": {},
   "source": [
    "We can see that all the criteria for assessment are summarized using the classification_report function and the information for Category2-Gym<br> Accuracy, Recall, F1 score and Support are calculated below.\n"
   ]
  },
  {
   "cell_type": "code",
   "execution_count": 294,
   "metadata": {},
   "outputs": [
    {
     "name": "stdout",
     "output_type": "stream",
     "text": [
      "              precision    recall  f1-score   support\n",
      "\n",
      "    Negative       0.68      0.80      0.74       226\n",
      "    Positive       0.87      0.77      0.82       374\n",
      "\n",
      "    accuracy                           0.78       600\n",
      "   macro avg       0.77      0.79      0.78       600\n",
      "weighted avg       0.80      0.78      0.79       600\n",
      "\n"
     ]
    }
   ],
   "source": [
    "print(classification_report(category2_test_y, category2_y_perdiction, target_names=['Negative','Positive']))"
   ]
  },
  {
   "cell_type": "markdown",
   "metadata": {},
   "source": [
    "The F1 score could be used to compare results for each class, as previously stated, with the imbalanced data. Below are the F1 scores evaluated for Category2-Gym data for Negative and Positive Class. Within the later portion, this data is expressed graphically by F1 scores with other categories."
   ]
  },
  {
   "cell_type": "code",
   "execution_count": 295,
   "metadata": {},
   "outputs": [
    {
     "name": "stdout",
     "output_type": "stream",
     "text": [
      "F1 score for POSITIVE review = 0.82\n",
      "F1 score for NEGATIVE review = 0.74\n"
     ]
    }
   ],
   "source": [
    "category2f1_pos = f1_score(category2_test_y, category2_y_perdiction, pos_label='Positive')\n",
    "category2f1_neg = f1_score(category2_test_y, category2_y_perdiction, pos_label='Negative')\n",
    "print(\"F1 score for POSITIVE review = %.2f\" % category2f1_pos )\n",
    "print(\"F1 score for NEGATIVE review = %.2f\" % category2f1_neg )"
   ]
  },
  {
   "cell_type": "markdown",
   "metadata": {},
   "source": [
    "#### Cross validation used for the Prediction and Evaluation<br>\n",
    "I used cross validation because the data is imbalanced, the model stacking approach is used for better evaluation, we don't have to worry about changing the parameters because it takes care of it on its own, uses all the data available, gives preference to dependent and grouped data and has a better metric system."
   ]
  },
  {
   "cell_type": "code",
   "execution_count": 296,
   "metadata": {},
   "outputs": [
    {
     "name": "stdout",
     "output_type": "stream",
     "text": [
      "Mean accuracy: 0.7210\n"
     ]
    }
   ],
   "source": [
    "accuracies = cross_val_score(nb, category2X.toarray(), targetTypeCategory2, cv=5, scoring=\"accuracy\")\n",
    "labels = [ \"Fold %d\" % i for i in range(1,len(accuracies)+1) ]\n",
    "accuracy_series = pd.Series(accuracies, index = labels)\n",
    "print(\"Mean accuracy: %.4f\" % accuracy_series.mean() )"
   ]
  },
  {
   "cell_type": "markdown",
   "metadata": {},
   "source": [
    "### Classication model using Naive Bayes classifier for category 3-Hotels"
   ]
  },
  {
   "cell_type": "markdown",
   "metadata": {},
   "source": [
    "#### PreProcessing: Category3-Hotels\n",
    "I use the TfidfVectorizer to convert the text documents into numerical format, to form stems, to remove stop words and to generate the Category3-Hotels document matrix.\n",
    "Min def states that if a token appears in the minimum number of documents defined then that token must be considered.<br > The next step is to split the Category3-Hotels data into the training set and test set. I chose 70% of the data in Category3-Hotels as the training set, and 30% of the total data in Category3-Hotels as the test set"
   ]
  },
  {
   "cell_type": "code",
   "execution_count": 297,
   "metadata": {},
   "outputs": [],
   "source": [
    "vectorizerCategory3 = TfidfVectorizer(stop_words=\"english\",min_df=3,strip_accents='unicode')\n",
    "category3X = vectorizerCategory3.fit_transform(reviewCategory3)\n",
    "category3_train_x, category3_test_x, category3_train_y, category3_test_y = train_test_split(category3X, targetTypeCategory3, test_size=0.3)"
   ]
  },
  {
   "cell_type": "markdown",
   "metadata": {},
   "source": [
    "#### Creating Model: Category3-Hotels\n",
    "Creating the Naive Bayes model and Category3-Hotels training data is fitted"
   ]
  },
  {
   "cell_type": "code",
   "execution_count": 298,
   "metadata": {},
   "outputs": [
    {
     "data": {
      "text/plain": [
       "GaussianNB(priors=None, var_smoothing=1e-09)"
      ]
     },
     "execution_count": 298,
     "metadata": {},
     "output_type": "execute_result"
    }
   ],
   "source": [
    "nbCategory3 = GaussianNB()\n",
    "nbCategory3.fit(category3_train_x.toarray(), category3_train_y)"
   ]
  },
  {
   "cell_type": "markdown",
   "metadata": {},
   "source": [
    "#### Predicting: Category3-Hotels\n",
    "Model generated in the above step is used for predicting test set of Category3-Hotels"
   ]
  },
  {
   "cell_type": "code",
   "execution_count": 299,
   "metadata": {},
   "outputs": [],
   "source": [
    "category3_y_perdiction = nbCategory3.predict(category3_test_x.toarray())"
   ]
  },
  {
   "cell_type": "markdown",
   "metadata": {},
   "source": [
    "#### Testing: Category3-Hotels\n",
    "From the matrix below we see that the number of records for Negative and Positive feedbacktype are not equal. Information is imbalanced, in other words. Assessment needs another approach"
   ]
  },
  {
   "cell_type": "code",
   "execution_count": 300,
   "metadata": {},
   "outputs": [
    {
     "data": {
      "text/html": [
       "<div>\n",
       "<style scoped>\n",
       "    .dataframe tbody tr th:only-of-type {\n",
       "        vertical-align: middle;\n",
       "    }\n",
       "\n",
       "    .dataframe tbody tr th {\n",
       "        vertical-align: top;\n",
       "    }\n",
       "\n",
       "    .dataframe thead th {\n",
       "        text-align: right;\n",
       "    }\n",
       "</style>\n",
       "<table border=\"1\" class=\"dataframe\">\n",
       "  <thead>\n",
       "    <tr style=\"text-align: right;\">\n",
       "      <th></th>\n",
       "      <th>Review</th>\n",
       "    </tr>\n",
       "    <tr>\n",
       "      <th>FeedBackType</th>\n",
       "      <th></th>\n",
       "    </tr>\n",
       "  </thead>\n",
       "  <tbody>\n",
       "    <tr>\n",
       "      <th>Negative</th>\n",
       "      <td>824</td>\n",
       "    </tr>\n",
       "    <tr>\n",
       "      <th>Positive</th>\n",
       "      <td>1176</td>\n",
       "    </tr>\n",
       "  </tbody>\n",
       "</table>\n",
       "</div>"
      ],
      "text/plain": [
       "              Review\n",
       "FeedBackType        \n",
       "Negative         824\n",
       "Positive        1176"
      ]
     },
     "execution_count": 300,
     "metadata": {},
     "output_type": "execute_result"
    }
   ],
   "source": [
    "category3.groupby(['FeedBackType']).agg(pd.Series.count)"
   ]
  },
  {
   "cell_type": "markdown",
   "metadata": {},
   "source": [
    "The easiest way to look if the model just correctly predicted the majority class and not the minority class is by seeing the confusion matrix. We will find out if the assumption for this is incorrect. From the matrix we can infer that in most cases the model has done significant work predicting classes correctly"
   ]
  },
  {
   "cell_type": "code",
   "execution_count": 301,
   "metadata": {},
   "outputs": [
    {
     "name": "stdout",
     "output_type": "stream",
     "text": [
      "[[178  64]\n",
      " [ 97 261]]\n"
     ]
    }
   ],
   "source": [
    "print(confusion_matrix(category3_test_y, category3_y_perdiction,labels=['Negative','Positive']))"
   ]
  },
  {
   "cell_type": "markdown",
   "metadata": {},
   "source": [
    "We can see that all the criteria for assessment are summarized using the classification_report function and the information for Category3-Hotels<br> Accuracy, Recall, F1 score and Support are calculated below."
   ]
  },
  {
   "cell_type": "code",
   "execution_count": 302,
   "metadata": {},
   "outputs": [
    {
     "name": "stdout",
     "output_type": "stream",
     "text": [
      "              precision    recall  f1-score   support\n",
      "\n",
      "    Negative       0.65      0.74      0.69       242\n",
      "    Positive       0.80      0.73      0.76       358\n",
      "\n",
      "    accuracy                           0.73       600\n",
      "   macro avg       0.73      0.73      0.73       600\n",
      "weighted avg       0.74      0.73      0.73       600\n",
      "\n"
     ]
    }
   ],
   "source": [
    "cReport=classification_report(category3_test_y, category3_y_perdiction, target_names=['Negative','Positive'])\n",
    "print(cReport)"
   ]
  },
  {
   "cell_type": "markdown",
   "metadata": {},
   "source": [
    "The F1 score could be used to compare results for each class, as previously stated, with the imbalanced data. Below are the F1 scores evaluated for Category3-Hotels data for Negative and Positive Class. Within the later portion, this data is expressed graphically by F1 scores with other categories."
   ]
  },
  {
   "cell_type": "code",
   "execution_count": 303,
   "metadata": {},
   "outputs": [
    {
     "name": "stdout",
     "output_type": "stream",
     "text": [
      "F1 score for POSITIVE review = 0.76\n",
      "F1 score for NEGATIVE review = 0.69\n"
     ]
    }
   ],
   "source": [
    "category3f1_pos = f1_score(category3_test_y, category3_y_perdiction, pos_label='Positive')\n",
    "category3f1_neg = f1_score(category3_test_y, category3_y_perdiction, pos_label='Negative')\n",
    "print(\"F1 score for POSITIVE review = %.2f\" % category3f1_pos )\n",
    "print(\"F1 score for NEGATIVE review = %.2f\" % category3f1_neg )"
   ]
  },
  {
   "cell_type": "markdown",
   "metadata": {},
   "source": [
    "#### Cross validation used for the Prediction and Evaluation<br>\n",
    "I used cross validation because the data is imbalanced, the model stacking approach is used for better evaluation, we don't have to worry about changing the parameters because it takes care of it on its own, uses all the data available, gives preference to dependent and grouped data and has a better metric system."
   ]
  },
  {
   "cell_type": "code",
   "execution_count": 304,
   "metadata": {},
   "outputs": [
    {
     "name": "stdout",
     "output_type": "stream",
     "text": [
      "Mean accuracy: 0.6785\n"
     ]
    }
   ],
   "source": [
    "accuracies = cross_val_score(nb, category3X.toarray(), targetTypeCategory3, cv=5, scoring=\"accuracy\")\n",
    "labels = [ \"Fold %d\" % i for i in range(1,len(accuracies)+1) ]\n",
    "accuracy_series = pd.Series(accuracies, index = labels)\n",
    "print(\"Mean accuracy: %.4f\" % accuracy_series.mean() )"
   ]
  },
  {
   "cell_type": "markdown",
   "metadata": {},
   "source": [
    "#### F1 Scores of All Categories for Positive and Negative Class Labels"
   ]
  },
  {
   "cell_type": "code",
   "execution_count": 396,
   "metadata": {},
   "outputs": [
    {
     "data": {
      "image/png": "[encoded data removed]",
      "text/plain": [
       "<Figure size 640x480 with 1 Axes>"
      ]
     },
     "metadata": {},
     "output_type": "display_data"
    }
   ],
   "source": [
    "plt.figure()\n",
    "F1_pos = [category1f1_pos,category3f1_pos,category3f1_pos]\n",
    "F1_neg = [category1f1_neg,category2f1_neg,category3f1_neg]\n",
    "barWidth = 0.2\n",
    "pos1=np.arange(len(F1_pos))\n",
    "pos2 = [x + barWidth for x in pos1]\n",
    "plt.barh(pos1, F1_pos, color='yellow', edgecolor='white', label='var1')\n",
    "plt.barh(pos2, F1_neg, color='red', edgecolor='white', label='var2')\n",
    " # labels read top-to-bottom\n",
    "plt.title(\"F1 Score all three categories\", fontweight='bold')\n",
    "plt.xlabel('F1 score',fontweight='bold')\n",
    "plt.ylabel('Category',fontweight='bold')\n",
    "plt.yticks([r + barWidth for r in range(len(F1_pos))], ['Automotive','Gym','Hotels'],fontweight='bold')\n",
    "plt.legend([\"F1 Score Positive\",\"F1 Score Negative\"], bbox_to_anchor=(1, 1))\n",
    "plt.show()"
   ]
  },
  {
   "cell_type": "markdown",
   "metadata": {},
   "source": [
    "The disparity in the measurements is seen as unbalanced data for all three groups. Where positives were more than negative feedback. Since positive reviews were more frequent and properly expected, the F1-Score for positive class label increased. Negative F1-Score should give you a better understanding of how good the model can be at predicting.\n",
    "\n",
    "For all 3 categories, the positive F1 level is nearly the same. Although the F1-Score is somewhat different for the minority class category, this is a negative class rating. The class negative scores in the Hotel category are the highest foreseen and the least foreseen in the Automotive category."
   ]
  },
  {
   "cell_type": "markdown",
   "metadata": {},
   "source": [
    "## Task 3: Evaluating the performance of each of the three classification models when applied to data from the other two selected categories"
   ]
  },
  {
   "cell_type": "markdown",
   "metadata": {},
   "source": [
    "The biggest issue we see when data is vectorized and we try to fit one category but the model is trained with another is that the number of features could be different and errors could be thrown.<br>\n",
    "Vertorizing generates only a number of features from the data supplied to it as an input.<br>\n",
    "Basically, the common approaches followed include the reduction of the dimensionality of datasets to identical features, features in test data but no training datesets can be excluded or the same vetorizer used on training set could be used on test set.<br>\n",
    "\n",
    "Approach i have followed is to use the same vetorizer used on training set on test set"
   ]
  },
  {
   "cell_type": "markdown",
   "metadata": {},
   "source": [
    "### Classification Model on Category1(Automative), Performance evaluation on Category2(Gym) and Category3(Hotels)"
   ]
  },
  {
   "cell_type": "markdown",
   "metadata": {},
   "source": [
    "Category1-Automotive vectorizer is used to convert Category2-Gym and Category3-Hotels data in such a way that they all have the same form."
   ]
  },
  {
   "cell_type": "code",
   "execution_count": 306,
   "metadata": {},
   "outputs": [],
   "source": [
    "automotiveGymX=vectorizerCategory1.transform(reviewCategory2)\n",
    "automotiveHotelsX=vectorizerCategory1.transform(reviewCategory3)"
   ]
  },
  {
   "cell_type": "markdown",
   "metadata": {},
   "source": [
    "#### Creating Model:\n",
    "Creating the Naive Bayes model and Category1-Automotive training data is fitted"
   ]
  },
  {
   "cell_type": "code",
   "execution_count": 307,
   "metadata": {},
   "outputs": [
    {
     "data": {
      "text/plain": [
       "GaussianNB(priors=None, var_smoothing=1e-09)"
      ]
     },
     "execution_count": 307,
     "metadata": {},
     "output_type": "execute_result"
    }
   ],
   "source": [
    "nbCategory1 = GaussianNB()\n",
    "nbCategory1.fit(category1_train_x.toarray(), category1_train_y)"
   ]
  },
  {
   "cell_type": "markdown",
   "metadata": {},
   "source": [
    "\n",
    "#### Predicting:\n",
    "Model generated in the above step is used for predicting test created using Category1-Automotive vectorizer"
   ]
  },
  {
   "cell_type": "code",
   "execution_count": 308,
   "metadata": {},
   "outputs": [],
   "source": [
    "automotiveGymPrediction = nbCategory1.predict(automotiveGymX.toarray()) \n",
    "automotiveHotelsPrediction = nbCategory1.predict(automotiveHotelsX.toarray())"
   ]
  },
  {
   "cell_type": "markdown",
   "metadata": {},
   "source": [
    "#### Testing:\n",
    "The easiest way to look if the model just correctly predicted the majority class and not the minority class is by seeing the confusion matrix. We will find out if the assumption for this is incorrect. From the matrix we can infer that in most cases the model has done significant work predicting classes correctly"
   ]
  },
  {
   "cell_type": "code",
   "execution_count": 309,
   "metadata": {},
   "outputs": [
    {
     "name": "stdout",
     "output_type": "stream",
     "text": [
      "[[493 439]\n",
      " [208 860]]\n"
     ]
    }
   ],
   "source": [
    "print(confusion_matrix(automotiveGymPrediction, targetTypeCategory2,labels=['Negative','Positive']))"
   ]
  },
  {
   "cell_type": "code",
   "execution_count": 310,
   "metadata": {},
   "outputs": [
    {
     "name": "stdout",
     "output_type": "stream",
     "text": [
      "[[533 262]\n",
      " [291 914]]\n"
     ]
    }
   ],
   "source": [
    "print(confusion_matrix(automotiveHotelsPrediction, targetTypeCategory3,labels=['Negative','Positive']))"
   ]
  },
  {
   "cell_type": "markdown",
   "metadata": {},
   "source": [
    "We can see that all the criteria for assessment are summarized using the classification_report function and the information displayed below are<br> Accuracy, Recall, F1 score and Support."
   ]
  },
  {
   "cell_type": "code",
   "execution_count": 311,
   "metadata": {},
   "outputs": [
    {
     "name": "stdout",
     "output_type": "stream",
     "text": [
      "              precision    recall  f1-score   support\n",
      "\n",
      "    Negative       0.70      0.53      0.60       932\n",
      "    Positive       0.66      0.81      0.73      1068\n",
      "\n",
      "    accuracy                           0.68      2000\n",
      "   macro avg       0.68      0.67      0.67      2000\n",
      "weighted avg       0.68      0.68      0.67      2000\n",
      "\n"
     ]
    }
   ],
   "source": [
    "print(classification_report(automotiveGymPrediction, targetTypeCategory2, target_names=['Negative','Positive']))"
   ]
  },
  {
   "cell_type": "code",
   "execution_count": 312,
   "metadata": {},
   "outputs": [
    {
     "name": "stdout",
     "output_type": "stream",
     "text": [
      "              precision    recall  f1-score   support\n",
      "\n",
      "    Negative       0.65      0.67      0.66       795\n",
      "    Positive       0.78      0.76      0.77      1205\n",
      "\n",
      "    accuracy                           0.72      2000\n",
      "   macro avg       0.71      0.71      0.71      2000\n",
      "weighted avg       0.73      0.72      0.72      2000\n",
      "\n"
     ]
    }
   ],
   "source": [
    "print(classification_report(automotiveHotelsPrediction, targetTypeCategory3, target_names=['Negative','Positive']))"
   ]
  },
  {
   "cell_type": "markdown",
   "metadata": {},
   "source": [
    "The F1 score could be used to compare results for each class[Positive Or Negative], as previously stated, with the imbalanced data. This data is expressed graphically by F1 scores with other categories."
   ]
  },
  {
   "cell_type": "code",
   "execution_count": 313,
   "metadata": {},
   "outputs": [
    {
     "name": "stdout",
     "output_type": "stream",
     "text": [
      "F1 score for POSITIVE review evaluated against GYM category = 0.73\n",
      "F1 score for NEGATIVE review evaluated against GYM category = 0.60\n"
     ]
    }
   ],
   "source": [
    "automotiveGymF1_pos = f1_score(automotiveGymPrediction, targetTypeCategory2, pos_label='Positive')\n",
    "automotiveGymF1_neg = f1_score(automotiveGymPrediction, targetTypeCategory2, pos_label='Negative')\n",
    "print(\"F1 score for POSITIVE review evaluated against GYM category = %.2f\" % automotiveGymF1_pos )\n",
    "print(\"F1 score for NEGATIVE review evaluated against GYM category = %.2f\" % automotiveGymF1_neg )"
   ]
  },
  {
   "cell_type": "code",
   "execution_count": 314,
   "metadata": {},
   "outputs": [
    {
     "name": "stdout",
     "output_type": "stream",
     "text": [
      "F1 score for POSITIVE review evaluated against HOTELs category = 0.77\n",
      "F1 score for NEGATIVE review evaluated against HOTELs category = 0.66\n"
     ]
    }
   ],
   "source": [
    "automotiveHotelsF1_pos = f1_score(automotiveHotelsPrediction, targetTypeCategory3, pos_label='Positive')\n",
    "automotiveHotelsF1_neg = f1_score(automotiveHotelsPrediction, targetTypeCategory3, pos_label='Negative')\n",
    "print(\"F1 score for POSITIVE review evaluated against HOTELs category = %.2f\" % automotiveHotelsF1_pos )\n",
    "print(\"F1 score for NEGATIVE review evaluated against HOTELs category = %.2f\" % automotiveHotelsF1_neg )"
   ]
  },
  {
   "cell_type": "markdown",
   "metadata": {},
   "source": [
    "#### F1 Scores for Positive and Negative Class Labels when data used for training is Category1-Automotive and evaluated on data from  Category2-Gym and Category3-Hotels "
   ]
  },
  {
   "cell_type": "code",
   "execution_count": 315,
   "metadata": {},
   "outputs": [
    {
     "data": {
      "image/png": "[encoded data removed]",
      "text/plain": [
       "<Figure size 640x480 with 1 Axes>"
      ]
     },
     "metadata": {},
     "output_type": "display_data"
    }
   ],
   "source": [
    "plt.figure()\n",
    "F1_pos = [automotiveGymF1_pos,automotiveHotelsF1_pos]\n",
    "F1_neg = [automotiveGymF1_neg,automotiveHotelsF1_neg]\n",
    "barWidth = 0.2\n",
    "pos1=np.arange(len(F1_pos))\n",
    "pos2 = [x + barWidth for x in pos1]\n",
    "plt.barh(pos1, F1_pos, color='yellow', edgecolor='white', label='var1')\n",
    "plt.barh(pos2, F1_neg, color='red', edgecolor='white', label='var2')\n",
    " # labels read top-to-bottom\n",
    "plt.title(\"Naive Bayes trained with Category1-Automative data\", fontweight='bold')\n",
    "plt.xlabel('F1 score',fontweight='bold')\n",
    "plt.ylabel('Category',fontweight='bold')\n",
    "plt.yticks([r + barWidth for r in range(len(F1_pos))], ['Gym','Hotels'],fontweight='bold')\n",
    "plt.legend([\"F1 Score Positive\",\"F1 Score Negative\"], bbox_to_anchor=(1, 1))\n",
    "plt.show()"
   ]
  },
  {
   "cell_type": "markdown",
   "metadata": {},
   "source": [
    "The measurement variations are known to be unequaled, with almost the same positive degree of F1. While for the minority class community, the F1 score is slightly different, it is a negative class cause could be fewer negatve records"
   ]
  },
  {
   "cell_type": "markdown",
   "metadata": {},
   "source": [
    "### Classification Model on Category2(Gym), Performance evaluation on Category1(Automative) and Category3(Hotels)"
   ]
  },
  {
   "cell_type": "markdown",
   "metadata": {},
   "source": [
    "Category2-Gym vectorizer is used to convert Category1-Automotive and Category3-Hotels data in such a way that they all have the same form."
   ]
  },
  {
   "cell_type": "code",
   "execution_count": 326,
   "metadata": {},
   "outputs": [],
   "source": [
    "gymAutomotiveX=vectorizerCategory2.transform(reviewCategory1)\n",
    "gymHotelsX=vectorizerCategory2.transform(reviewCategory3)"
   ]
  },
  {
   "cell_type": "markdown",
   "metadata": {},
   "source": [
    "#### Creating Model:\n",
    "Creating the Naive Bayes model and Category2-Gym training data is fitted"
   ]
  },
  {
   "cell_type": "code",
   "execution_count": 327,
   "metadata": {},
   "outputs": [
    {
     "data": {
      "text/plain": [
       "GaussianNB(priors=None, var_smoothing=1e-09)"
      ]
     },
     "execution_count": 327,
     "metadata": {},
     "output_type": "execute_result"
    }
   ],
   "source": [
    "nbCategory2 = GaussianNB()\n",
    "nbCategory2.fit(category2_train_x.toarray(), category2_train_y)"
   ]
  },
  {
   "cell_type": "markdown",
   "metadata": {},
   "source": [
    "#### Predicting:\n",
    "Model generated in the above step is used for predicting test created using Category2-Gym vectorizer"
   ]
  },
  {
   "cell_type": "code",
   "execution_count": 328,
   "metadata": {},
   "outputs": [],
   "source": [
    "gymAutomotivePrediction = nbCategory2.predict(gymAutomotiveX.toarray()) \n",
    "gymHotelsPrediction = nbCategory2.predict(gymHotelsX.toarray())"
   ]
  },
  {
   "cell_type": "markdown",
   "metadata": {},
   "source": [
    "#### Testing:\n",
    "The easiest way to look if the model just correctly predicted the majority class and not the minority class is by seeing the confusion matrix. We will find out if the assumption for this is incorrect. From the matrix we can infer that in most cases the model has done significant work predicting classes correctly"
   ]
  },
  {
   "cell_type": "code",
   "execution_count": 329,
   "metadata": {},
   "outputs": [
    {
     "name": "stdout",
     "output_type": "stream",
     "text": [
      "[[612 661]\n",
      " [176 551]]\n"
     ]
    }
   ],
   "source": [
    "print(confusion_matrix(gymAutomotivePrediction, targetTypeCategory1,labels=['Negative','Positive']))"
   ]
  },
  {
   "cell_type": "code",
   "execution_count": 330,
   "metadata": {},
   "outputs": [
    {
     "name": "stdout",
     "output_type": "stream",
     "text": [
      "[[525 437]\n",
      " [299 739]]\n"
     ]
    }
   ],
   "source": [
    "print(confusion_matrix(gymHotelsPrediction, targetTypeCategory3,labels=['Negative','Positive']))"
   ]
  },
  {
   "cell_type": "markdown",
   "metadata": {},
   "source": [
    "We can see that all the criteria for assessment are summarized using the classification_report function and the information displayed below are<br> Accuracy, Recall, F1 score and Support."
   ]
  },
  {
   "cell_type": "code",
   "execution_count": 331,
   "metadata": {},
   "outputs": [
    {
     "name": "stdout",
     "output_type": "stream",
     "text": [
      "              precision    recall  f1-score   support\n",
      "\n",
      "    Negative       0.78      0.48      0.59      1273\n",
      "    Positive       0.45      0.76      0.57       727\n",
      "\n",
      "    accuracy                           0.58      2000\n",
      "   macro avg       0.62      0.62      0.58      2000\n",
      "weighted avg       0.66      0.58      0.58      2000\n",
      "\n"
     ]
    }
   ],
   "source": [
    "print(classification_report(gymAutomotivePrediction, targetTypeCategory1, target_names=['Negative','Positive']))"
   ]
  },
  {
   "cell_type": "code",
   "execution_count": 332,
   "metadata": {},
   "outputs": [
    {
     "name": "stdout",
     "output_type": "stream",
     "text": [
      "              precision    recall  f1-score   support\n",
      "\n",
      "    Negative       0.64      0.55      0.59       962\n",
      "    Positive       0.63      0.71      0.67      1038\n",
      "\n",
      "    accuracy                           0.63      2000\n",
      "   macro avg       0.63      0.63      0.63      2000\n",
      "weighted avg       0.63      0.63      0.63      2000\n",
      "\n"
     ]
    }
   ],
   "source": [
    "print(classification_report(gymHotelsPrediction, targetTypeCategory3, target_names=['Negative','Positive']))"
   ]
  },
  {
   "cell_type": "markdown",
   "metadata": {},
   "source": [
    "The F1 score could be used to compare results for each class[Positive Or Negative], as previously stated, with the imbalanced data. This data is expressed graphically by F1 scores with other categories."
   ]
  },
  {
   "cell_type": "code",
   "execution_count": 333,
   "metadata": {},
   "outputs": [
    {
     "name": "stdout",
     "output_type": "stream",
     "text": [
      "F1 score for POSITIVE review evaluated against AUTOMOTIVE category = 0.57\n",
      "F1 score for NEGATIVE review evaluated against AUTOMOTIVE category = 0.59\n"
     ]
    }
   ],
   "source": [
    "gymAutomotiveF1_pos = f1_score(gymAutomotivePrediction, targetTypeCategory1, pos_label='Positive')\n",
    "gymAutomotiveF1_neg = f1_score(gymAutomotivePrediction, targetTypeCategory1, pos_label='Negative')\n",
    "print(\"F1 score for POSITIVE review evaluated against AUTOMOTIVE category = %.2f\" % gymAutomotiveF1_pos )\n",
    "print(\"F1 score for NEGATIVE review evaluated against AUTOMOTIVE category = %.2f\" % gymAutomotiveF1_neg )"
   ]
  },
  {
   "cell_type": "code",
   "execution_count": 334,
   "metadata": {},
   "outputs": [
    {
     "name": "stdout",
     "output_type": "stream",
     "text": [
      "F1 score for POSITIVE review evaluated against HOTELS category = 0.67\n",
      "F1 score for NEGATIVE review evaluated against HOTELS category = 0.59\n"
     ]
    }
   ],
   "source": [
    "gymHotelsF1_pos = f1_score(gymHotelsPrediction, targetTypeCategory3, pos_label='Positive')\n",
    "gymHotelsF1_neg = f1_score(gymHotelsPrediction, targetTypeCategory3, pos_label='Negative')\n",
    "print(\"F1 score for POSITIVE review evaluated against HOTELS category = %.2f\" % gymHotelsF1_pos )\n",
    "print(\"F1 score for NEGATIVE review evaluated against HOTELS category = %.2f\" % gymHotelsF1_neg )"
   ]
  },
  {
   "cell_type": "markdown",
   "metadata": {},
   "source": [
    "#### F1 Scores for Positive and Negative Class Labels when data used for training is Category2-Gym and evaluated on data from  Category1-Automotive and Category3-Hotels "
   ]
  },
  {
   "cell_type": "code",
   "execution_count": 394,
   "metadata": {},
   "outputs": [
    {
     "data": {
      "image/png": "[encoded data removed]",
      "text/plain": [
       "<Figure size 640x480 with 1 Axes>"
      ]
     },
     "metadata": {},
     "output_type": "display_data"
    }
   ],
   "source": [
    "plt.figure()\n",
    "F1_pos = [gymAutomotiveF1_pos,gymHotelsF1_pos]\n",
    "F1_neg = [gymAutomotiveF1_neg,gymHotelsF1_neg]\n",
    "barWidth = 0.2\n",
    "pos1=np.arange(len(F1_pos))\n",
    "pos2 = [x + barWidth for x in pos1]\n",
    "plt.barh(pos1, F1_pos, color='yellow', edgecolor='white', label='var1')\n",
    "plt.barh(pos2, F1_neg, color='red', edgecolor='white', label='var2')\n",
    " # labels read top-to-bottom\n",
    "plt.title(\"Naive Bayes trained with Category2-Gym data\", fontweight='bold')\n",
    "plt.xlabel('F1 score',fontweight='bold')\n",
    "plt.ylabel('Category',fontweight='bold')\n",
    "plt.yticks([r + barWidth for r in range(len(F1_pos))], ['Automotive','Hotels'],fontweight='bold')\n",
    "plt.legend([\"F1 Score Positive\",\"F1 Score Negative\"], bbox_to_anchor=(1, 1))\n",
    "plt.show()"
   ]
  },
  {
   "cell_type": "markdown",
   "metadata": {},
   "source": [
    "The measurement variations are known to be unequaled, there is significant difference in both positive and negative classes. Classes classified as positive is less than classes calssifed as negative in case of Category3-Automotive. This could possible be because of words used in the reviews of these categories(Autmotive, Gym) are very different."
   ]
  },
  {
   "cell_type": "markdown",
   "metadata": {},
   "source": [
    "### Classification Model on Category3(Hotels), Performance evaluation on Category1(Automative) and Category2(Gym)"
   ]
  },
  {
   "cell_type": "markdown",
   "metadata": {},
   "source": [
    "Category3-Hotels vectorizer is used to convert Category1-Automotive and Category2-Gym data in such a way that they all have the same form."
   ]
  },
  {
   "cell_type": "code",
   "execution_count": 336,
   "metadata": {},
   "outputs": [],
   "source": [
    "hotelsAutomotiveX=vectorizerCategory3.transform(reviewCategory1)\n",
    "hotelsGymX=vectorizerCategory3.transform(reviewCategory2)"
   ]
  },
  {
   "cell_type": "markdown",
   "metadata": {},
   "source": [
    "#### Creating Model:\n",
    "Creating the Naive Bayes model and Category3-Hotels training data is fitted"
   ]
  },
  {
   "cell_type": "code",
   "execution_count": 337,
   "metadata": {},
   "outputs": [
    {
     "data": {
      "text/plain": [
       "GaussianNB(priors=None, var_smoothing=1e-09)"
      ]
     },
     "execution_count": 337,
     "metadata": {},
     "output_type": "execute_result"
    }
   ],
   "source": [
    "nbCategory3 = GaussianNB()\n",
    "nbCategory3.fit(category3_train_x.toarray(), category3_train_y)"
   ]
  },
  {
   "cell_type": "markdown",
   "metadata": {},
   "source": [
    "#### Predicting:\n",
    "Model generated in the above step is used for predicting test created using Category3-Hotels vectorizer"
   ]
  },
  {
   "cell_type": "code",
   "execution_count": 338,
   "metadata": {},
   "outputs": [],
   "source": [
    "hotelsAutomotivePrediction = nbCategory3.predict(hotelsAutomotiveX.toarray()) \n",
    "hotelsGymPrediction = nbCategory3.predict(hotelsGymX.toarray())"
   ]
  },
  {
   "cell_type": "markdown",
   "metadata": {},
   "source": [
    "#### Testing:\n",
    "The easiest way to look if the model just correctly predicted the majority class and not the minority class is by seeing the confusion matrix. We will find out if the assumption for this is incorrect. From the matrix we can infer that in most cases the model has done significant work predicting classes correctly"
   ]
  },
  {
   "cell_type": "code",
   "execution_count": 339,
   "metadata": {},
   "outputs": [
    {
     "name": "stdout",
     "output_type": "stream",
     "text": [
      "[[655 645]\n",
      " [133 567]]\n"
     ]
    }
   ],
   "source": [
    "print(confusion_matrix(hotelsAutomotivePrediction, targetTypeCategory1,labels=['Negative','Positive']))"
   ]
  },
  {
   "cell_type": "code",
   "execution_count": 340,
   "metadata": {},
   "outputs": [
    {
     "name": "stdout",
     "output_type": "stream",
     "text": [
      "[[498 415]\n",
      " [203 884]]\n"
     ]
    }
   ],
   "source": [
    "print(confusion_matrix(hotelsGymPrediction, targetTypeCategory2,labels=['Negative','Positive']))"
   ]
  },
  {
   "cell_type": "markdown",
   "metadata": {},
   "source": [
    "We can see that all the criteria for assessment are summarized using the classification_report function and the information displayed below are<br> Accuracy, Recall, F1 score and Support.\n"
   ]
  },
  {
   "cell_type": "code",
   "execution_count": 341,
   "metadata": {},
   "outputs": [
    {
     "name": "stdout",
     "output_type": "stream",
     "text": [
      "              precision    recall  f1-score   support\n",
      "\n",
      "    Negative       0.83      0.50      0.63      1300\n",
      "    Positive       0.47      0.81      0.59       700\n",
      "\n",
      "    accuracy                           0.61      2000\n",
      "   macro avg       0.65      0.66      0.61      2000\n",
      "weighted avg       0.70      0.61      0.62      2000\n",
      "\n"
     ]
    }
   ],
   "source": [
    "print(classification_report(hotelsAutomotivePrediction, targetTypeCategory1, target_names=['Negative','Positive']))"
   ]
  },
  {
   "cell_type": "code",
   "execution_count": 342,
   "metadata": {},
   "outputs": [
    {
     "name": "stdout",
     "output_type": "stream",
     "text": [
      "              precision    recall  f1-score   support\n",
      "\n",
      "    Negative       0.71      0.55      0.62       913\n",
      "    Positive       0.68      0.81      0.74      1087\n",
      "\n",
      "    accuracy                           0.69      2000\n",
      "   macro avg       0.70      0.68      0.68      2000\n",
      "weighted avg       0.69      0.69      0.68      2000\n",
      "\n"
     ]
    }
   ],
   "source": [
    "print(classification_report(hotelsGymPrediction, targetTypeCategory2, target_names=['Negative','Positive']))"
   ]
  },
  {
   "cell_type": "markdown",
   "metadata": {},
   "source": [
    "The F1 score could be used to compare results for each class[Positive Or Negative], as previously stated, with the imbalanced data. This data is expressed graphically by F1 scores with other categories."
   ]
  },
  {
   "cell_type": "code",
   "execution_count": 343,
   "metadata": {},
   "outputs": [
    {
     "name": "stdout",
     "output_type": "stream",
     "text": [
      "F1 score for POSITIVE review evaluated against AUTOMOTIVE category = 0.59\n",
      "F1 score for NEGATIVE review evaluated against AUTOMOTIVE category = 0.63\n"
     ]
    }
   ],
   "source": [
    "hotelsAutomotiveF1_pos = f1_score(hotelsAutomotivePrediction, targetTypeCategory1, pos_label='Positive')\n",
    "hotelsAutomotiveF1_neg = f1_score(hotelsAutomotivePrediction, targetTypeCategory1, pos_label='Negative')\n",
    "print(\"F1 score for POSITIVE review evaluated against AUTOMOTIVE category = %.2f\" % hotelsAutomotiveF1_pos )\n",
    "print(\"F1 score for NEGATIVE review evaluated against AUTOMOTIVE category = %.2f\" % hotelsAutomotiveF1_neg )"
   ]
  },
  {
   "cell_type": "code",
   "execution_count": 344,
   "metadata": {},
   "outputs": [
    {
     "name": "stdout",
     "output_type": "stream",
     "text": [
      "F1 score for POSITIVE review evaluated against GYM category = 0.74\n",
      "F1 score for NEGATIVE review evaluated against GYM category = 0.62\n"
     ]
    }
   ],
   "source": [
    "hotelsGymF1_pos = f1_score(hotelsGymPrediction, targetTypeCategory2, pos_label='Positive')\n",
    "hotelsGymF1_neg = f1_score(hotelsGymPrediction, targetTypeCategory2, pos_label='Negative')\n",
    "print(\"F1 score for POSITIVE review evaluated against GYM category = %.2f\" % hotelsGymF1_pos )\n",
    "print(\"F1 score for NEGATIVE review evaluated against GYM category = %.2f\" % hotelsGymF1_neg )"
   ]
  },
  {
   "cell_type": "markdown",
   "metadata": {},
   "source": [
    "#### F1 Scores for Positive and Negative Class Labels when data used for training is Category3-Hotels and evaluated on data from  Category1-Automotive and Category2-Gym "
   ]
  },
  {
   "cell_type": "code",
   "execution_count": 395,
   "metadata": {},
   "outputs": [
    {
     "data": {
      "image/png": "[encoded data removed]",
      "text/plain": [
       "<Figure size 640x480 with 1 Axes>"
      ]
     },
     "metadata": {},
     "output_type": "display_data"
    }
   ],
   "source": [
    "plt.figure()\n",
    "F1_pos = [hotelsAutomotiveF1_pos,hotelsGymF1_pos]\n",
    "F1_neg = [hotelsAutomotiveF1_neg,hotelsGymF1_neg]\n",
    "barWidth = 0.2\n",
    "pos1=np.arange(len(F1_pos))\n",
    "pos2 = [x + barWidth for x in pos1]\n",
    "plt.barh(pos1, F1_pos, color='yellow', edgecolor='white', label='var1')\n",
    "plt.barh(pos2, F1_neg, color='red', edgecolor='white', label='var2')\n",
    " # labels read top-to-bottom\n",
    "plt.title(\"Naive Bayes trained with Category3-Hotels data\", fontweight='bold')\n",
    "plt.xlabel('F1 score',fontweight='bold')\n",
    "plt.ylabel('Category',fontweight='bold')\n",
    "plt.yticks([r + barWidth for r in range(len(F1_pos))], ['Automotive','Gym'],fontweight='bold')\n",
    "plt.legend([\"F1 Score Positive\",\"F1 Score Negative\"], bbox_to_anchor=(1, 1))\n",
    "plt.show()"
   ]
  },
  {
   "cell_type": "markdown",
   "metadata": {},
   "source": [
    "The measurement variations are known to be unequaled, with almost the same negative degree of F1. While for the majority class community, the F1 score is slightly different, it is a positive class.Classes classified as positive is less than classes calssifed as negative in case of Category3-Automotive. This could possible be because of words used in the reviews of these categories(Automotive, Hotels) are very different."
   ]
  },
  {
   "cell_type": "markdown",
   "metadata": {},
   "source": [
    "### Conclusion\n",
    "\n",
    "In Task 2, the F1 score for positive class markings is almost the same when the same class data was used for test set and training set, but for negative class marks, the explanation may be that data contained fewer records, of which the class markings were negative. In addition, the accuracy of the classification report is almost identical<br><br>\n",
    "\n",
    "In Task 3, where the training set consists of one category while the test set consists of multiple categories we see variation in the F1 ratings, the potential reason may be that reviews are independent for each category and category specific terms vary in the classification of the review as positive or negative. This may also have contributed to a decline in accuracy. One particular observation is the models which are  trained from category2-Gym and category3-Hotels decreased prediction of Cateogory1-Automotive and the same is not true in the contrary."
   ]
  }
 ],
 "metadata": {
  "kernelspec": {
   "display_name": "Python 3",
   "language": "python",
   "name": "python3"
  },
  "language_info": {
   "codemirror_mode": {
    "name": "ipython",
    "version": 3
   },
   "file_extension": ".py",
   "mimetype": "text/x-python",
   "name": "python",
   "nbconvert_exporter": "python",
   "pygments_lexer": "ipython3",
   "version": "3.7.6"
  }
 },
 "nbformat": 4,
 "nbformat_minor": 2
}
